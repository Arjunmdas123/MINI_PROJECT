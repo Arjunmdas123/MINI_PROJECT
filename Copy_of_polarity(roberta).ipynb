{
  "nbformat": 4,
  "nbformat_minor": 0,
  "metadata": {
    "colab": {
      "provenance": []
    },
    "kernelspec": {
      "name": "python3",
      "display_name": "Python 3"
    },
    "language_info": {
      "name": "python"
    }
  },
  "cells": [
    {
      "cell_type": "code",
      "execution_count": null,
      "metadata": {
        "id": "T_os-LmeeuH0"
      },
      "outputs": [],
      "source": [
        "pip install transformers"
      ]
    },
    {
      "cell_type": "code",
      "source": [
        "pip install scipy"
      ],
      "metadata": {
        "id": "sxI6vXUge13j"
      },
      "execution_count": null,
      "outputs": []
    },
    {
      "cell_type": "code",
      "source": [
        "from transformers import AutoTokenizer, AutoModelForSequenceClassification\n",
        "from scipy.special import softmax\n",
        "import re\n",
        "\n",
        "# load model and tokenizer\n",
        "roberta = \"cardiffnlp/twitter-roberta-base-sentiment\"\n",
        "model = AutoModelForSequenceClassification.from_pretrained(roberta)\n",
        "tokenizer = AutoTokenizer.from_pretrained(roberta)\n",
        "\n",
        "labels = ['Negative', 'Neutral', 'Positive']\n",
        "\n",
        "while True:\n",
        "    user_text = input(\"\\nEnter your text (or type 'exit' to quit): \")\n",
        "\n",
        "    # Input Type Validation\n",
        "    if not isinstance(user_text, str):\n",
        "        print(\"Please enter a valid text.\")\n",
        "        continue\n",
        "\n",
        "    # Check for Empty Input\n",
        "    if not user_text.strip():\n",
        "        print(\"Please enter a non-empty text.\")\n",
        "        continue\n",
        "\n",
        "    if user_text.lower() == 'exit':\n",
        "        break\n",
        "\n",
        "    # preprocess user_text\n",
        "    user_words = []\n",
        "\n",
        "    for word in user_text.split(' '):\n",
        "        if word.startswith('@') and len(word) > 1:\n",
        "            word = '@user'\n",
        "        elif word.startswith('http'):\n",
        "            word = \"http\"\n",
        "        user_words.append(word)\n",
        "\n",
        "    user_proc = \" \".join(user_words)\n",
        "\n",
        "    # sentiment analysis\n",
        "    encoded_user_text = tokenizer(user_proc, return_tensors='pt')\n",
        "    output = model(**encoded_user_text)\n",
        "\n",
        "    scores = output.logits[0].detach().numpy()\n",
        "    scores = softmax(scores)\n",
        "\n",
        "    predicted_class_index = scores.argmax()\n",
        "    predicted_class_label = labels[predicted_class_index]\n",
        "    predicted_probabilities = scores.tolist()\n",
        "\n",
        "    # Display the predicted sentiment probabilities and class labels\n",
        "    print(f\"\\nPredicted Sentiment Probabilities: [Negative: {predicted_probabilities[0]}, Neutral: {predicted_probabilities[1]}, Positive: {predicted_probabilities[2]}]\")\n",
        "    print(f\"Predicted Class: {predicted_class_label}\")\n"
      ],
      "metadata": {
        "colab": {
          "base_uri": "https://localhost:8080/"
        },
        "id": "0wzPbFzxfDiq",
        "outputId": "5115ed70-51f6-4125-d3f6-d2bbfe53b70b"
      },
      "execution_count": null,
      "outputs": [
        {
          "name": "stdout",
          "output_type": "stream",
          "text": [
            "\n",
            "Enter your text (or type 'exit' to quit): The coffee shop is known for its cozy atmosphere.\n",
            "\n",
            "Predicted Sentiment Probabilities: [Negative: 0.0014519968535751104, Neutral: 0.10550512373447418, Positive: 0.8930428624153137]\n",
            "Predicted Class: Positive\n",
            "\n",
            "Enter your text (or type 'exit' to quit): The rainy weather ruined our plans for an outdoor picnic.\n",
            "\n",
            "Predicted Sentiment Probabilities: [Negative: 0.9109612107276917, Neutral: 0.08155105262994766, Positive: 0.007487711030989885]\n",
            "Predicted Class: Negative\n",
            "\n",
            "Enter your text (or type 'exit' to quit): he concert last night was incredible – the band played all my favorite songs.\n",
            "\n",
            "Predicted Sentiment Probabilities: [Negative: 0.0017945414874702692, Neutral: 0.006745282094925642, Positive: 0.9914602041244507]\n",
            "Predicted Class: Positive\n",
            "\n",
            "Enter your text (or type 'exit' to quit): exit\n"
          ]
        }
      ]
    },
    {
      "cell_type": "code",
      "source": [
        "pip install tweepy"
      ],
      "metadata": {
        "id": "0opKQKkVkVno"
      },
      "execution_count": null,
      "outputs": []
    },
    {
      "cell_type": "code",
      "source": [
        "pip install pandas"
      ],
      "metadata": {
        "colab": {
          "base_uri": "https://localhost:8080/"
        },
        "id": "6Uex9_OWk3Pi",
        "outputId": "ec10dab8-2068-43e2-8252-a64c4f75f9a7"
      },
      "execution_count": null,
      "outputs": [
        {
          "output_type": "stream",
          "name": "stdout",
          "text": [
            "Requirement already satisfied: pandas in /usr/local/lib/python3.10/dist-packages (1.5.3)\n",
            "Requirement already satisfied: python-dateutil>=2.8.1 in /usr/local/lib/python3.10/dist-packages (from pandas) (2.8.2)\n",
            "Requirement already satisfied: pytz>=2020.1 in /usr/local/lib/python3.10/dist-packages (from pandas) (2023.3.post1)\n",
            "Requirement already satisfied: numpy>=1.21.0 in /usr/local/lib/python3.10/dist-packages (from pandas) (1.23.5)\n",
            "Requirement already satisfied: six>=1.5 in /usr/local/lib/python3.10/dist-packages (from python-dateutil>=2.8.1->pandas) (1.16.0)\n"
          ]
        }
      ]
    },
    {
      "cell_type": "code",
      "source": [
        "pip install configparser"
      ],
      "metadata": {
        "colab": {
          "base_uri": "https://localhost:8080/"
        },
        "id": "Ms7aBxCdkeG1",
        "outputId": "8cdc9932-7944-4e46-b990-ed2f4f670824"
      },
      "execution_count": null,
      "outputs": [
        {
          "output_type": "stream",
          "name": "stdout",
          "text": [
            "Requirement already satisfied: configparser in /usr/local/lib/python3.10/dist-packages (6.0.0)\n"
          ]
        }
      ]
    },
    {
      "cell_type": "code",
      "source": [
        "import tweepy\n",
        "import configparser\n",
        "import pandas as pd\n",
        "\n",
        "# read configs\n",
        "config = configparser.ConfigParser()\n",
        "config.read('/content/config.ini')\n",
        "\n",
        "api_key = config['twitter']['api_key']\n",
        "api_key_secret = config['twitter']['api_key_secret']\n",
        "\n",
        "access_token = config['twitter']['access_token']\n",
        "access_token_secret = config['twitter']['access_token_secret']\n",
        "\n",
        "# authentication\n",
        "auth = tweepy.OAuthHandler(api_key, api_key_secret)\n",
        "auth.set_access_token(access_token, access_token_secret)\n",
        "\n",
        "api = tweepy.API(auth)\n",
        "\n",
        "public_tweets = api.home_timeline()\n",
        "\n",
        "# create dataframe\n",
        "columns = ['Time', 'User', 'Tweet']\n",
        "data = []\n",
        "for tweet in public_tweets:\n",
        "    data.append([tweet.created_at, tweet.user.screen_name, tweet.text])\n",
        "\n",
        "df = pd.DataFrame(data, columns=columns)\n",
        "\n",
        "df.to_csv('tweepy1.csv')"
      ],
      "metadata": {
        "id": "DL2yC_exk6rE"
      },
      "execution_count": null,
      "outputs": []
    }
  ]
}